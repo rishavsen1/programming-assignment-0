{
  "nbformat": 4,
  "nbformat_minor": 0,
  "metadata": {
    "colab": {
      "name": "Assignment-0",
      "provenance": [],
      "collapsed_sections": [],
      "include_colab_link": true
    },
    "kernelspec": {
      "name": "python3",
      "display_name": "Python 3"
    },
    "language_info": {
      "name": "python"
    }
  },
  "cells": [
    {
      "cell_type": "markdown",
      "metadata": {
        "id": "view-in-github",
        "colab_type": "text"
      },
      "source": [
        "<a href=\"https://colab.research.google.com/github/rishavsen1/programming-assignment-0/blob/main/Assignment_0.ipynb\" target=\"_parent\"><img src=\"https://colab.research.google.com/assets/colab-badge.svg\" alt=\"Open In Colab\"/></a>"
      ]
    },
    {
      "cell_type": "markdown",
      "source": [
        "In this assignment we are going to work with data that was downloaded using using the [yfinance](https://pypi.org/project/yfinance/) library. It containst daily closing prices of all symbols."
      ],
      "metadata": {
        "id": "XZ8EGoj3LAv2"
      }
    },
    {
      "cell_type": "code",
      "source": [
        "from multiprocessing   import Pool\n",
        "from tqdm import *\n",
        "import pandas as pd"
      ],
      "metadata": {
        "id": "Wh2tTkoMM6sg"
      },
      "execution_count": 1,
      "outputs": []
    },
    {
      "cell_type": "code",
      "source": [
        "#Question 1: Explain what the code below is trying to do. Describe each step.\n",
        "data = pd.read_csv(\"http://www.nasdaqtrader.com/dynamic/SymDir/nasdaqtraded.txt\", sep='|')\n",
        "data_clean = data[data['Test Issue'] == 'N']\n",
        "symbols = set(data_clean['NASDAQ Symbol'].tolist())\n",
        "data = pd.read_csv(\"http://www.nasdaqtrader.com/dynamic/SymDir/otherlisted.txt\", sep='|')\n",
        "data_clean = data[data['Test Issue'] == 'N']\n",
        "symbols = set(data_clean['NASDAQ Symbol'].tolist())\n"
      ],
      "metadata": {
        "id": "5HN0Mhq4LFe2"
      },
      "execution_count": 2,
      "outputs": []
    },
    {
      "cell_type": "code",
      "source": [
        "#Describe your answer below.\n",
        "#Answer 1: "
      ],
      "metadata": {
        "id": "MYY6pkbnMUvO"
      },
      "execution_count": null,
      "outputs": []
    },
    {
      "cell_type": "markdown",
      "source": [
        "1. The NASDAQ Traded dataset is read, where the columns are delimited by \"|\", and  is stored in \"data\" variable.<br>\n",
        "2. \"data_clean\" stores the data where \"Test Issues\" are \"N\".<br>\n",
        "3. A set of all the NASDAQ symbols is stored in \"symbols\"<br>\n",
        "4. Similarly, The NASDAQ Other listed dataset is read, where the columns are delimited by \"|\", and  is stored in \"data\" variable.<br>\n",
        "5. \"data_clean\" stores the data where \"Test Issues\" are \"N\".<br>\n",
        "6. A set of all the NASDAQ other traded symbols is stored in \"symbols\"<br>\n"
      ],
      "metadata": {
        "id": "yy5edN3xvSDH"
      }
    },
    {
      "cell_type": "code",
      "source": [
        "!wget  -O stocks.parquet https://www.dropbox.com/s/gzpi950gfdz9dsk/stocks.parquet?dl=1 # lets download the data"
      ],
      "metadata": {
        "id": "5b3j282aZMIO",
        "colab": {
          "base_uri": "https://localhost:8080/"
        },
        "outputId": "4066bff3-562f-494a-b692-532bbca7d23f"
      },
      "execution_count": 3,
      "outputs": [
        {
          "output_type": "stream",
          "name": "stdout",
          "text": [
            "--2022-01-25 10:17:07--  https://www.dropbox.com/s/gzpi950gfdz9dsk/stocks.parquet?dl=1\n",
            "Resolving www.dropbox.com (www.dropbox.com)... 162.125.81.18, 2620:100:6030:18::a27d:5012\n",
            "Connecting to www.dropbox.com (www.dropbox.com)|162.125.81.18|:443... connected.\n",
            "HTTP request sent, awaiting response... 301 Moved Permanently\n",
            "Location: /s/dl/gzpi950gfdz9dsk/stocks.parquet [following]\n",
            "--2022-01-25 10:17:08--  https://www.dropbox.com/s/dl/gzpi950gfdz9dsk/stocks.parquet\n",
            "Reusing existing connection to www.dropbox.com:443.\n",
            "HTTP request sent, awaiting response... 302 Found\n",
            "Location: https://uc5de92f43c92697bdae36dca2ee.dl.dropboxusercontent.com/cd/0/get/Bec8SgHKevhRyWPdBKzOVprEw7ZfMrc4d94isHt95G_r7HI1yPZSFFTR5P4vznQWjsFPjAoxRRLbroLb2hv3OK65v9Iy0j8gO6DDKqrkNxZJfYYCAXgwZ8Tx3EGcw6xuuuoqFqCpmeu7zyZ-MqE57wsO/file?dl=1# [following]\n",
            "--2022-01-25 10:17:08--  https://uc5de92f43c92697bdae36dca2ee.dl.dropboxusercontent.com/cd/0/get/Bec8SgHKevhRyWPdBKzOVprEw7ZfMrc4d94isHt95G_r7HI1yPZSFFTR5P4vznQWjsFPjAoxRRLbroLb2hv3OK65v9Iy0j8gO6DDKqrkNxZJfYYCAXgwZ8Tx3EGcw6xuuuoqFqCpmeu7zyZ-MqE57wsO/file?dl=1\n",
            "Resolving uc5de92f43c92697bdae36dca2ee.dl.dropboxusercontent.com (uc5de92f43c92697bdae36dca2ee.dl.dropboxusercontent.com)... 162.125.81.15, 2620:100:6031:15::a27d:510f\n",
            "Connecting to uc5de92f43c92697bdae36dca2ee.dl.dropboxusercontent.com (uc5de92f43c92697bdae36dca2ee.dl.dropboxusercontent.com)|162.125.81.15|:443... connected.\n",
            "HTTP request sent, awaiting response... 200 OK\n",
            "Length: 678640589 (647M) [application/binary]\n",
            "Saving to: ‘stocks.parquet’\n",
            "\n",
            "stocks.parquet      100%[===================>] 647.20M  15.2MB/s    in 48s     \n",
            "\n",
            "2022-01-25 10:17:57 (13.6 MB/s) - ‘stocks.parquet’ saved [678640589/678640589]\n",
            "\n"
          ]
        }
      ]
    },
    {
      "cell_type": "code",
      "source": [
        "!ls stocks.parquet -l #downloaded file"
      ],
      "metadata": {
        "colab": {
          "base_uri": "https://localhost:8080/"
        },
        "id": "jPZoUqKNZhRX",
        "outputId": "cc05a218-3fee-410d-9fb7-2c3fa85628a3"
      },
      "execution_count": 4,
      "outputs": [
        {
          "output_type": "stream",
          "name": "stdout",
          "text": [
            "-rw-r--r-- 1 root root 678640589 Jan 25 10:17 stocks.parquet\n"
          ]
        }
      ]
    },
    {
      "cell_type": "code",
      "source": [
        "#Bonus question 1 - find on internet and write the command that will download the all data from the symbols list. \n",
        "symbols = pd.read_parquet('stocks.parquet', columns=[\"symbol\"]) #all symbols\n",
        "symbols_unique = symbols.drop_duplicates() #unique symbols"
      ],
      "metadata": {
        "id": "m9ZaZDOgNxhF"
      },
      "execution_count": 5,
      "outputs": []
    },
    {
      "cell_type": "code",
      "source": [
        "data=pd.read_parquet('stocks.parquet')"
      ],
      "metadata": {
        "id": "AldxdSqFZ1mC"
      },
      "execution_count": null,
      "outputs": []
    },
    {
      "cell_type": "code",
      "source": [
        "# Question 2 find top 20 best performer stocks - i.e. the stocks that provided the best return.\n",
        "# if the stocks adj_close on the earliest date was X and the adj_close on the 2021-01-01 is y and the number of days elapsed between these dates is Z.\n",
        "# Then return = Y/X/Z * changed it to (Y-X)/Z\n",
        "# Sort the stocks by this return and find the top 20"
      ],
      "metadata": {
        "id": "c3vJMi_8bAwC"
      },
      "execution_count": null,
      "outputs": []
    },
    {
      "cell_type": "code",
      "source": [
        "data.head(1) # Below shows a sample of the data.\n",
        "#date - describes the day of the price\n",
        "#open - the price at which stock opened\n",
        "#high - what was the intraday high\n",
        "#low - what is the intraday low\n",
        "#close - what was the closing price\n",
        "#adj_close - the price calculated after adjusting for all future stock splits\n",
        "#dividends - what are the dividends that were paid on the day.\n",
        "#stock_splits - if the stock was split\n",
        "#symbol the symbol of the stock\n"
      ],
      "metadata": {
        "colab": {
          "base_uri": "https://localhost:8080/",
          "height": 81
        },
        "id": "JLriTcuObF3k",
        "outputId": "34610db5-e851-4106-c1f8-7f2b0ea61ca6"
      },
      "execution_count": null,
      "outputs": [
        {
          "output_type": "execute_result",
          "data": {
            "text/html": [
              "\n",
              "  <div id=\"df-94fed28e-fe0a-4e85-b135-3ca5c6aa7a48\">\n",
              "    <div class=\"colab-df-container\">\n",
              "      <div>\n",
              "<style scoped>\n",
              "    .dataframe tbody tr th:only-of-type {\n",
              "        vertical-align: middle;\n",
              "    }\n",
              "\n",
              "    .dataframe tbody tr th {\n",
              "        vertical-align: top;\n",
              "    }\n",
              "\n",
              "    .dataframe thead th {\n",
              "        text-align: right;\n",
              "    }\n",
              "</style>\n",
              "<table border=\"1\" class=\"dataframe\">\n",
              "  <thead>\n",
              "    <tr style=\"text-align: right;\">\n",
              "      <th></th>\n",
              "      <th>date</th>\n",
              "      <th>open</th>\n",
              "      <th>high</th>\n",
              "      <th>low</th>\n",
              "      <th>close</th>\n",
              "      <th>adj_close</th>\n",
              "      <th>volume</th>\n",
              "      <th>dividends</th>\n",
              "      <th>stock_splits</th>\n",
              "      <th>symbol</th>\n",
              "      <th>day</th>\n",
              "      <th>year</th>\n",
              "      <th>month</th>\n",
              "      <th>dayofweek</th>\n",
              "    </tr>\n",
              "  </thead>\n",
              "  <tbody>\n",
              "    <tr>\n",
              "      <th>0</th>\n",
              "      <td>1962-01-02</td>\n",
              "      <td>0.131273</td>\n",
              "      <td>0.131273</td>\n",
              "      <td>0.124177</td>\n",
              "      <td>0.124177</td>\n",
              "      <td>0.045278</td>\n",
              "      <td>2480333.0</td>\n",
              "      <td>0.0</td>\n",
              "      <td>0.0</td>\n",
              "      <td>HPQ</td>\n",
              "      <td>2</td>\n",
              "      <td>1962</td>\n",
              "      <td>1</td>\n",
              "      <td>Tuesday</td>\n",
              "    </tr>\n",
              "  </tbody>\n",
              "</table>\n",
              "</div>\n",
              "      <button class=\"colab-df-convert\" onclick=\"convertToInteractive('df-94fed28e-fe0a-4e85-b135-3ca5c6aa7a48')\"\n",
              "              title=\"Convert this dataframe to an interactive table.\"\n",
              "              style=\"display:none;\">\n",
              "        \n",
              "  <svg xmlns=\"http://www.w3.org/2000/svg\" height=\"24px\"viewBox=\"0 0 24 24\"\n",
              "       width=\"24px\">\n",
              "    <path d=\"M0 0h24v24H0V0z\" fill=\"none\"/>\n",
              "    <path d=\"M18.56 5.44l.94 2.06.94-2.06 2.06-.94-2.06-.94-.94-2.06-.94 2.06-2.06.94zm-11 1L8.5 8.5l.94-2.06 2.06-.94-2.06-.94L8.5 2.5l-.94 2.06-2.06.94zm10 10l.94 2.06.94-2.06 2.06-.94-2.06-.94-.94-2.06-.94 2.06-2.06.94z\"/><path d=\"M17.41 7.96l-1.37-1.37c-.4-.4-.92-.59-1.43-.59-.52 0-1.04.2-1.43.59L10.3 9.45l-7.72 7.72c-.78.78-.78 2.05 0 2.83L4 21.41c.39.39.9.59 1.41.59.51 0 1.02-.2 1.41-.59l7.78-7.78 2.81-2.81c.8-.78.8-2.07 0-2.86zM5.41 20L4 18.59l7.72-7.72 1.47 1.35L5.41 20z\"/>\n",
              "  </svg>\n",
              "      </button>\n",
              "      \n",
              "  <style>\n",
              "    .colab-df-container {\n",
              "      display:flex;\n",
              "      flex-wrap:wrap;\n",
              "      gap: 12px;\n",
              "    }\n",
              "\n",
              "    .colab-df-convert {\n",
              "      background-color: #E8F0FE;\n",
              "      border: none;\n",
              "      border-radius: 50%;\n",
              "      cursor: pointer;\n",
              "      display: none;\n",
              "      fill: #1967D2;\n",
              "      height: 32px;\n",
              "      padding: 0 0 0 0;\n",
              "      width: 32px;\n",
              "    }\n",
              "\n",
              "    .colab-df-convert:hover {\n",
              "      background-color: #E2EBFA;\n",
              "      box-shadow: 0px 1px 2px rgba(60, 64, 67, 0.3), 0px 1px 3px 1px rgba(60, 64, 67, 0.15);\n",
              "      fill: #174EA6;\n",
              "    }\n",
              "\n",
              "    [theme=dark] .colab-df-convert {\n",
              "      background-color: #3B4455;\n",
              "      fill: #D2E3FC;\n",
              "    }\n",
              "\n",
              "    [theme=dark] .colab-df-convert:hover {\n",
              "      background-color: #434B5C;\n",
              "      box-shadow: 0px 1px 3px 1px rgba(0, 0, 0, 0.15);\n",
              "      filter: drop-shadow(0px 1px 2px rgba(0, 0, 0, 0.3));\n",
              "      fill: #FFFFFF;\n",
              "    }\n",
              "  </style>\n",
              "\n",
              "      <script>\n",
              "        const buttonEl =\n",
              "          document.querySelector('#df-94fed28e-fe0a-4e85-b135-3ca5c6aa7a48 button.colab-df-convert');\n",
              "        buttonEl.style.display =\n",
              "          google.colab.kernel.accessAllowed ? 'block' : 'none';\n",
              "\n",
              "        async function convertToInteractive(key) {\n",
              "          const element = document.querySelector('#df-94fed28e-fe0a-4e85-b135-3ca5c6aa7a48');\n",
              "          const dataTable =\n",
              "            await google.colab.kernel.invokeFunction('convertToInteractive',\n",
              "                                                     [key], {});\n",
              "          if (!dataTable) return;\n",
              "\n",
              "          const docLinkHtml = 'Like what you see? Visit the ' +\n",
              "            '<a target=\"_blank\" href=https://colab.research.google.com/notebooks/data_table.ipynb>data table notebook</a>'\n",
              "            + ' to learn more about interactive tables.';\n",
              "          element.innerHTML = '';\n",
              "          dataTable['output_type'] = 'display_data';\n",
              "          await google.colab.output.renderOutput(dataTable, element);\n",
              "          const docLink = document.createElement('div');\n",
              "          docLink.innerHTML = docLinkHtml;\n",
              "          element.appendChild(docLink);\n",
              "        }\n",
              "      </script>\n",
              "    </div>\n",
              "  </div>\n",
              "  "
            ],
            "text/plain": [
              "         date      open      high       low  ...  day  year  month  dayofweek\n",
              "0  1962-01-02  0.131273  0.131273  0.124177  ...    2  1962      1    Tuesday\n",
              "\n",
              "[1 rows x 14 columns]"
            ]
          },
          "metadata": {},
          "execution_count": 13
        }
      ]
    },
    {
      "cell_type": "code",
      "source": [
        "df = pd.read_parquet('stocks.parquet', columns=[\"date\", \"adj_close\"])"
      ],
      "metadata": {
        "id": "s3y6CxHLvieJ"
      },
      "execution_count": 7,
      "outputs": []
    },
    {
      "cell_type": "code",
      "source": [
        "from datetime import datetime\n",
        "import numpy as np\n",
        "\n",
        "d0 = datetime.strptime(df.iloc[0].date, '%Y-%m-%d').date()\n",
        "X = df.iloc[0].adj_close\n",
        "stock_start_ind = 0\n",
        "ret = [np.nan for i in range(len(symbols_unique))]\n",
        "count = 0\n",
        "df_return = symbols_unique.copy(deep=False)\n",
        "for i, rows in symbols_unique[1:].iterrows():\n",
        "  if i-stock_start_ind >=1.00007:  #to remove stocks with 1 day's performance recorded only\n",
        "    Y = df.iloc[i-1].adj_close\n",
        "    d1 = datetime.strptime(df.iloc[i-1].date, '%Y-%m-%d').date()\n",
        "    Z = d1 - d0\n",
        "    Z = Z.days\n",
        "    ret[count] = ((Y-X)/Z)\n",
        "    d0 = datetime.strptime(df.iloc[i].date, '%Y-%m-%d').date()\n",
        "    X = df.iloc[i].adj_close\n",
        "  stock_start_ind = i-1\n",
        "  count+=1\n",
        "\n",
        "# to account for the last stock\n",
        "if df.index[-1] - df.index[i] >= 1.00007:\n",
        "  Y = df.iloc[-1].adj_close\n",
        "  d1 = datetime.strptime(df.iloc[-1].date, '%Y-%m-%d').date()\n",
        "  Z = d1 - d0\n",
        "  Z = Z.days\n",
        "  ret[len(ret)] = ((Y-X)/Z)\n",
        "  \n",
        "df_return['ret'] = ret"
      ],
      "metadata": {
        "id": "3ut4-5M0vv2a",
        "outputId": "b364766b-0cb4-4fe0-bf00-80cbdbd798fa",
        "colab": {
          "base_uri": "https://localhost:8080/"
        }
      },
      "execution_count": 8,
      "outputs": [
        {
          "output_type": "stream",
          "name": "stderr",
          "text": [
            "/usr/local/lib/python3.7/dist-packages/ipykernel_launcher.py:16: RuntimeWarning: invalid value encountered in double_scalars\n",
            "  app.launch_new_instance()\n"
          ]
        }
      ]
    },
    {
      "cell_type": "code",
      "source": [
        "df_return = df_return.sort_values(by='ret', ascending=False)\n",
        "\n",
        "print(\"Best returning stocks are:\\nSymbol \\t Return\")\n",
        "for i, rows in df_return[:20].iterrows():\n",
        "  print(rows.symbol,\"\\t\", rows.ret)\n"
      ],
      "metadata": {
        "id": "VJ-YtHCUvyuj",
        "outputId": "a00c5889-b592-4381-ca7a-ce686b51fd43",
        "colab": {
          "base_uri": "https://localhost:8080/"
        }
      },
      "execution_count": 9,
      "outputs": [
        {
          "output_type": "stream",
          "name": "stdout",
          "text": [
            "Best returning stocks are:\n",
            "Symbol \t Return\n",
            "JE \t 2864610111595566.0\n",
            "AVGOP \t 1.3786403322682796\n",
            "HCP \t 0.6894442240397135\n",
            "MNDY \t 0.6533999633789063\n",
            "SHOP \t 0.5733899568256579\n",
            "CABO \t 0.5716100522834653\n",
            "DWAC \t 0.4887499917637218\n",
            "DWACU \t 0.4752252080419042\n",
            "GOOG \t 0.459267609201032\n",
            "GOOGL \t 0.4587331857002765\n",
            "NVR \t 0.43561101319905093\n",
            "IOT \t 0.3891666730244954\n",
            "AMZN \t 0.37716098304745144\n",
            "SITM \t 0.36944011847178143\n",
            "SWAR \t 0.35371426173618864\n",
            "UPST \t 0.34726062226802745\n",
            "MDB \t 0.3445228776121451\n",
            "BKUS \t 0.3347140720912388\n",
            "TSVT \t 0.3194444444444444\n",
            "BNTX \t 0.2974041984756149\n"
          ]
        }
      ]
    },
    {
      "cell_type": "code",
      "source": [
        "#Question 3: Create a copy of this notebook called assignment-aws and follow the instructions in readme to run the notebook on AWS compute instance.\n",
        "# Compare performance of running natively on colab and colab+AWS"
      ],
      "metadata": {
        "id": "c1jLuH32dDhR"
      },
      "execution_count": null,
      "outputs": []
    }
  ]
}